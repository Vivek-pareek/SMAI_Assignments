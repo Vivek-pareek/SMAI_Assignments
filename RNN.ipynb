{
  "nbformat": 4,
  "nbformat_minor": 0,
  "metadata": {
    "colab": {
      "name": "RNN.ipynb",
      "provenance": [],
      "collapsed_sections": [],
      "include_colab_link": true
    },
    "kernelspec": {
      "display_name": "Python 3 (ipykernel)",
      "language": "python",
      "name": "python3"
    },
    "language_info": {
      "codemirror_mode": {
        "name": "ipython",
        "version": 3
      },
      "file_extension": ".py",
      "mimetype": "text/x-python",
      "name": "python",
      "nbconvert_exporter": "python",
      "pygments_lexer": "ipython3",
      "version": "3.9.7"
    }
  },
  "cells": [
    {
      "cell_type": "markdown",
      "metadata": {
        "id": "view-in-github",
        "colab_type": "text"
      },
      "source": [
        "<a href=\"https://colab.research.google.com/github/Vivek-pareek/SMAI_Assignments/blob/main/RNN.ipynb\" target=\"_parent\"><img src=\"https://colab.research.google.com/assets/colab-badge.svg\" alt=\"Open In Colab\"/></a>"
      ]
    },
    {
      "cell_type": "markdown",
      "metadata": {
        "id": "Y45yhDufI5Uo"
      },
      "source": [
        "# **RNN**\n",
        "A recurrent neural network (RNN) is a class of artificial neural network where connections between units form a directed cycle. This creates an internal state of the network which allows it to exhibit dynamic temporal behavior."
      ]
    },
    {
      "cell_type": "markdown",
      "metadata": {
        "id": "55i8db8uI5U3"
      },
      "source": [
        "IMDB sentiment classification task\n",
        "\n",
        "This is a dataset for binary sentiment classification containing substantially more data than previous benchmark datasets. IMDB provided a set of 25,000 highly polar movie reviews for training, and 25,000 for testing. There is additional unlabeled data for use as well. Raw text and already processed bag of words formats are provided.\n",
        "\n",
        "You can download the dataset from http://ai.stanford.edu/~amaas/data/sentiment/  or you can directly use \n",
        "\" from keras.datasets import imdb \" to import the dataset.\n",
        "\n",
        "Few points to be noted:\n",
        "Modules like SimpleRNN, LSTM, Activation layers, Dense layers, Dropout can be directly used from keras\n",
        "For preprocessing, you can use required "
      ]
    },
    {
      "cell_type": "code",
      "metadata": {
        "id": "SozhvLNkI5U6",
        "colab": {
          "base_uri": "https://localhost:8080/"
        },
        "outputId": "02994cbf-40cc-45e9-f99f-1ffd343a8ced"
      },
      "source": [
        "#load the imdb dataset\n",
        "# Note, I have referred https://towardsdatascience.com/a-beginners-guide-on-sentiment-analysis-with-rnn-9e100627c02e \n",
        "from keras.datasets import imdb\n",
        "\n",
        "vocabulary_size = 5000\n",
        "(X_train, y_train), (X_test, y_test) = imdb.load_data(num_words = vocabulary_size)\n",
        "print('Loaded dataset with {} training samples, {} test samples'.format(len(X_train), len(X_test)))"
      ],
      "execution_count": null,
      "outputs": [
        {
          "output_type": "stream",
          "name": "stdout",
          "text": [
            "Downloading data from https://storage.googleapis.com/tensorflow/tf-keras-datasets/imdb.npz\n",
            "17465344/17464789 [==============================] - 0s 0us/step\n",
            "17473536/17464789 [==============================] - 0s 0us/step\n",
            "Loaded dataset with 25000 training samples, 25000 test samples\n"
          ]
        }
      ]
    },
    {
      "cell_type": "code",
      "metadata": {
        "id": "NrilwfurI5VA",
        "colab": {
          "base_uri": "https://localhost:8080/"
        },
        "outputId": "c8250d47-c8ce-4427-accf-e689af795432"
      },
      "source": [
        "#the review is stored as a sequence of integers. \n",
        "# These are word IDs that have been pre-assigned to individual words, and the label is an integer\n",
        "\n",
        "print('---review---')\n",
        "print(X_train[1])\n",
        "print('---label---')\n",
        "print(y_train[1])\n",
        "\n",
        "# to get the actual review\n",
        "word2id = imdb.get_word_index()\n",
        "id2word = {i: word for word, i in word2id.items()}\n",
        "print('---review with words---')\n",
        "print([id2word.get(i, ' ') for i in X_train[1]])\n",
        "print('---label---')\n",
        "print(y_train[1])"
      ],
      "execution_count": null,
      "outputs": [
        {
          "output_type": "stream",
          "name": "stdout",
          "text": [
            "---review---\n",
            "[1, 194, 1153, 194, 2, 78, 228, 5, 6, 1463, 4369, 2, 134, 26, 4, 715, 8, 118, 1634, 14, 394, 20, 13, 119, 954, 189, 102, 5, 207, 110, 3103, 21, 14, 69, 188, 8, 30, 23, 7, 4, 249, 126, 93, 4, 114, 9, 2300, 1523, 5, 647, 4, 116, 9, 35, 2, 4, 229, 9, 340, 1322, 4, 118, 9, 4, 130, 4901, 19, 4, 1002, 5, 89, 29, 952, 46, 37, 4, 455, 9, 45, 43, 38, 1543, 1905, 398, 4, 1649, 26, 2, 5, 163, 11, 3215, 2, 4, 1153, 9, 194, 775, 7, 2, 2, 349, 2637, 148, 605, 2, 2, 15, 123, 125, 68, 2, 2, 15, 349, 165, 4362, 98, 5, 4, 228, 9, 43, 2, 1157, 15, 299, 120, 5, 120, 174, 11, 220, 175, 136, 50, 9, 4373, 228, 2, 5, 2, 656, 245, 2350, 5, 4, 2, 131, 152, 491, 18, 2, 32, 2, 1212, 14, 9, 6, 371, 78, 22, 625, 64, 1382, 9, 8, 168, 145, 23, 4, 1690, 15, 16, 4, 1355, 5, 28, 6, 52, 154, 462, 33, 89, 78, 285, 16, 145, 95]\n",
            "---label---\n",
            "0\n",
            "Downloading data from https://storage.googleapis.com/tensorflow/tf-keras-datasets/imdb_word_index.json\n",
            "1646592/1641221 [==============================] - 0s 0us/step\n",
            "1654784/1641221 [==============================] - 0s 0us/step\n",
            "---review with words---\n",
            "['the', 'thought', 'solid', 'thought', 'and', 'do', 'making', 'to', 'is', 'spot', 'nomination', 'and', 'while', 'he', 'of', 'jack', 'in', 'where', 'picked', 'as', 'getting', 'on', 'was', 'did', 'hands', 'fact', 'characters', 'to', 'always', 'life', 'thrillers', 'not', 'as', 'me', \"can't\", 'in', 'at', 'are', 'br', 'of', 'sure', 'your', 'way', 'of', 'little', 'it', 'strongly', 'random', 'to', 'view', 'of', 'love', 'it', 'so', 'and', 'of', 'guy', 'it', 'used', 'producer', 'of', 'where', 'it', 'of', 'here', 'icon', 'film', 'of', 'outside', 'to', \"don't\", 'all', 'unique', 'some', 'like', 'of', 'direction', 'it', 'if', 'out', 'her', 'imagination', 'below', 'keep', 'of', 'queen', 'he', 'and', 'to', 'makes', 'this', 'stretch', 'and', 'of', 'solid', 'it', 'thought', 'begins', 'br', 'and', 'and', 'budget', 'worthwhile', 'though', 'ok', 'and', 'and', 'for', 'ever', 'better', 'were', 'and', 'and', 'for', 'budget', 'look', 'kicked', 'any', 'to', 'of', 'making', 'it', 'out', 'and', 'follows', 'for', 'effects', 'show', 'to', 'show', 'cast', 'this', 'family', 'us', 'scenes', 'more', 'it', 'severe', 'making', 'and', 'to', 'and', 'finds', 'tv', 'tend', 'to', 'of', 'and', 'these', 'thing', 'wants', 'but', 'and', 'an', 'and', 'cult', 'as', 'it', 'is', 'video', 'do', 'you', 'david', 'see', 'scenery', 'it', 'in', 'few', 'those', 'are', 'of', 'ship', 'for', 'with', 'of', 'wild', 'to', 'one', 'is', 'very', 'work', 'dark', 'they', \"don't\", 'do', 'dvd', 'with', 'those', 'them']\n",
            "---label---\n",
            "0\n"
          ]
        }
      ]
    },
    {
      "cell_type": "code",
      "metadata": {
        "id": "h6upWxEWI5VC",
        "colab": {
          "base_uri": "https://localhost:8080/"
        },
        "outputId": "7ebe1a24-b150-4551-8548-6321815f0e96"
      },
      "source": [
        "#pad sequences (write your code here)\n",
        "import numpy as np\n",
        "from keras.preprocessing import sequence\n",
        "\n",
        "length_list = [len(review) for review in X_train]\n",
        "\n",
        "mean, std = int(np.mean(length_list)), int(np.std(length_list))\n",
        "\n",
        "print(\"mean length of review = {} std of review length = {}\".format(mean, std))\n",
        "\n",
        "#Assuming reviews length follow normal distribution, we take max_len to be mean + std\n",
        "X_train = sequence.pad_sequences(X_train, maxlen = mean + std)\n",
        "X_test = sequence.pad_sequences(X_test, maxlen = mean + std)\n",
        "\n"
      ],
      "execution_count": null,
      "outputs": [
        {
          "output_type": "stream",
          "name": "stdout",
          "text": [
            "mean length of review = 238 std of review length = 176\n"
          ]
        }
      ]
    },
    {
      "cell_type": "code",
      "metadata": {
        "id": "-RcCOpeNI5VF",
        "colab": {
          "base_uri": "https://localhost:8080/"
        },
        "outputId": "f4c0f9d6-3f60-4050-cfc9-8d15c694382c"
      },
      "source": [
        "#design a RNN model (write your code)\n",
        "\n",
        "from keras import Sequential\n",
        "from keras.layers import Embedding, SimpleRNN, Dense, Dropout\n",
        "\n",
        "embedding_size=32\n",
        "model=Sequential()\n",
        "model.add(Embedding(vocabulary_size, embedding_size, input_length = mean + std))\n",
        "model.add(SimpleRNN(32))\n",
        "model.add(Dense(1, activation='sigmoid'))\n",
        "model.summary()\n"
      ],
      "execution_count": null,
      "outputs": [
        {
          "output_type": "stream",
          "name": "stdout",
          "text": [
            "Model: \"sequential_5\"\n",
            "_________________________________________________________________\n",
            " Layer (type)                Output Shape              Param #   \n",
            "=================================================================\n",
            " embedding_4 (Embedding)     (None, 414, 32)           160000    \n",
            "                                                                 \n",
            " simple_rnn_2 (SimpleRNN)    (None, 32)                2080      \n",
            "                                                                 \n",
            " dense_3 (Dense)             (None, 1)                 33        \n",
            "                                                                 \n",
            "=================================================================\n",
            "Total params: 162,113\n",
            "Trainable params: 162,113\n",
            "Non-trainable params: 0\n",
            "_________________________________________________________________\n"
          ]
        }
      ]
    },
    {
      "cell_type": "code",
      "metadata": {
        "id": "InQ2TED3I5VI"
      },
      "source": [
        "#train and evaluate your model\n",
        "#choose your loss function and optimizer and mention the reason to choose that particular loss function and optimizer\n",
        "# use accuracy as the evaluation metric\n",
        "\n",
        "#Binary cross entropy loss suits for binary classification, hence we choose that\n",
        "#We choose adam optimizer as it converges faster to minima loss\n",
        "model.compile(loss = 'binary_crossentropy',\n",
        "              optimizer = 'adam',\n",
        "              metrics = ['accuracy'])"
      ],
      "execution_count": null,
      "outputs": []
    },
    {
      "cell_type": "code",
      "metadata": {
        "id": "q6A9Q0xmI5VJ",
        "colab": {
          "base_uri": "https://localhost:8080/"
        },
        "outputId": "53763971-0756-4e7f-e119-bd38b3786b72"
      },
      "source": [
        "batch_size = 128\n",
        "num_epochs = 10\n",
        "X_valid, y_valid = X_train[:batch_size], y_train[:batch_size]\n",
        "X_train2, y_train2 = X_train[batch_size:], y_train[batch_size:]\n",
        "model_history = model.fit(X_train2, y_train2, validation_data = (X_valid, y_valid), \n",
        "          batch_size = batch_size, epochs = num_epochs)"
      ],
      "execution_count": null,
      "outputs": [
        {
          "output_type": "stream",
          "name": "stdout",
          "text": [
            "Epoch 1/10\n",
            "195/195 [==============================] - 25s 124ms/step - loss: 0.5776 - accuracy: 0.6959 - val_loss: 0.4062 - val_accuracy: 0.8359\n",
            "Epoch 2/10\n",
            "195/195 [==============================] - 23s 120ms/step - loss: 0.3508 - accuracy: 0.8525 - val_loss: 0.3252 - val_accuracy: 0.8672\n",
            "Epoch 3/10\n",
            "195/195 [==============================] - 24s 121ms/step - loss: 0.2746 - accuracy: 0.8912 - val_loss: 0.2753 - val_accuracy: 0.8984\n",
            "Epoch 4/10\n",
            "195/195 [==============================] - 23s 120ms/step - loss: 0.3169 - accuracy: 0.8648 - val_loss: 0.3791 - val_accuracy: 0.8125\n",
            "Epoch 5/10\n",
            "195/195 [==============================] - 23s 120ms/step - loss: 0.2878 - accuracy: 0.8822 - val_loss: 0.3132 - val_accuracy: 0.8750\n",
            "Epoch 6/10\n",
            "195/195 [==============================] - 23s 118ms/step - loss: 0.1838 - accuracy: 0.9321 - val_loss: 0.2655 - val_accuracy: 0.8906\n",
            "Epoch 7/10\n",
            "195/195 [==============================] - 24s 122ms/step - loss: 0.1103 - accuracy: 0.9649 - val_loss: 0.3393 - val_accuracy: 0.8281\n",
            "Epoch 8/10\n",
            "195/195 [==============================] - 23s 119ms/step - loss: 0.0848 - accuracy: 0.9742 - val_loss: 0.3915 - val_accuracy: 0.8359\n",
            "Epoch 9/10\n",
            "195/195 [==============================] - 23s 120ms/step - loss: 0.0466 - accuracy: 0.9884 - val_loss: 0.3978 - val_accuracy: 0.8672\n",
            "Epoch 10/10\n",
            "195/195 [==============================] - 23s 119ms/step - loss: 0.0282 - accuracy: 0.9939 - val_loss: 0.5213 - val_accuracy: 0.8047\n"
          ]
        }
      ]
    },
    {
      "cell_type": "code",
      "metadata": {
        "id": "YTXG__EmI5VM",
        "colab": {
          "base_uri": "https://localhost:8080/"
        },
        "outputId": "a824f414-fd9d-4cfa-c697-7057cce226f2"
      },
      "source": [
        "#evaluate the model using model.evaluate()\n",
        "scores = model.evaluate(X_test, y_test, verbose=0)\n",
        "print('Test accuracy:', scores[1])"
      ],
      "execution_count": null,
      "outputs": [
        {
          "output_type": "stream",
          "name": "stdout",
          "text": [
            "Test accuracy: 0.8147199749946594\n"
          ]
        }
      ]
    },
    {
      "cell_type": "markdown",
      "metadata": {
        "id": "D1uSo8DgI5VN"
      },
      "source": [
        "# **LSTM**\n",
        "\n",
        "Instead of using a RNN, now try using a LSTM model and compare both of them. Which of those performed better and why ?\n"
      ]
    },
    {
      "cell_type": "code",
      "metadata": {
        "id": "Bk4rLYHwI5VP",
        "colab": {
          "base_uri": "https://localhost:8080/"
        },
        "outputId": "f2fc5311-9764-4ecd-e05d-01fce84cdd97"
      },
      "source": [
        "from keras.layers import LSTM\n",
        "\n",
        "embedding_size=32\n",
        "model=Sequential()\n",
        "model.add(Embedding(vocabulary_size, embedding_size, input_length = mean + std))\n",
        "model.add(LSTM(32))\n",
        "model.add(Dense(1, activation='sigmoid'))\n",
        "model.summary()"
      ],
      "execution_count": null,
      "outputs": [
        {
          "output_type": "stream",
          "name": "stdout",
          "text": [
            "Model: \"sequential_6\"\n",
            "_________________________________________________________________\n",
            " Layer (type)                Output Shape              Param #   \n",
            "=================================================================\n",
            " embedding_5 (Embedding)     (None, 414, 32)           160000    \n",
            "                                                                 \n",
            " lstm_1 (LSTM)               (None, 32)                8320      \n",
            "                                                                 \n",
            " dense_4 (Dense)             (None, 1)                 33        \n",
            "                                                                 \n",
            "=================================================================\n",
            "Total params: 168,353\n",
            "Trainable params: 168,353\n",
            "Non-trainable params: 0\n",
            "_________________________________________________________________\n"
          ]
        }
      ]
    },
    {
      "cell_type": "code",
      "metadata": {
        "colab": {
          "base_uri": "https://localhost:8080/"
        },
        "id": "_DdkqEBKMqbZ",
        "outputId": "9eb5d813-24a2-4fec-9a0d-b756dcefcd3e"
      },
      "source": [
        "model.compile(loss = 'binary_crossentropy',\n",
        "              optimizer = 'adam',\n",
        "              metrics = ['accuracy'])\n",
        "batch_size = 128\n",
        "num_epochs = 10\n",
        "X_valid, y_valid = X_train[:batch_size], y_train[:batch_size]\n",
        "X_train2, y_train2 = X_train[batch_size:], y_train[batch_size:]\n",
        "lstm_model_history = model.fit(X_train2, y_train2, validation_data = (X_valid, y_valid), \n",
        "          batch_size = batch_size, epochs = num_epochs)"
      ],
      "execution_count": null,
      "outputs": [
        {
          "output_type": "stream",
          "name": "stdout",
          "text": [
            "Epoch 1/10\n",
            "195/195 [==============================] - 55s 272ms/step - loss: 0.5103 - accuracy: 0.7527 - val_loss: 0.3242 - val_accuracy: 0.8594\n",
            "Epoch 2/10\n",
            "195/195 [==============================] - 52s 267ms/step - loss: 0.2821 - accuracy: 0.8871 - val_loss: 0.2407 - val_accuracy: 0.8906\n",
            "Epoch 3/10\n",
            "195/195 [==============================] - 52s 268ms/step - loss: 0.2190 - accuracy: 0.9162 - val_loss: 0.2343 - val_accuracy: 0.8984\n",
            "Epoch 4/10\n",
            "195/195 [==============================] - 52s 269ms/step - loss: 0.1929 - accuracy: 0.9276 - val_loss: 0.2535 - val_accuracy: 0.8984\n",
            "Epoch 5/10\n",
            "195/195 [==============================] - 53s 271ms/step - loss: 0.1704 - accuracy: 0.9373 - val_loss: 0.2605 - val_accuracy: 0.8906\n",
            "Epoch 6/10\n",
            "195/195 [==============================] - 53s 270ms/step - loss: 0.1608 - accuracy: 0.9413 - val_loss: 0.2563 - val_accuracy: 0.8906\n",
            "Epoch 7/10\n",
            "195/195 [==============================] - 53s 270ms/step - loss: 0.1431 - accuracy: 0.9483 - val_loss: 0.3066 - val_accuracy: 0.8828\n",
            "Epoch 8/10\n",
            "195/195 [==============================] - 53s 271ms/step - loss: 0.1259 - accuracy: 0.9558 - val_loss: 0.2684 - val_accuracy: 0.8906\n",
            "Epoch 9/10\n",
            "195/195 [==============================] - 53s 272ms/step - loss: 0.1204 - accuracy: 0.9577 - val_loss: 0.2714 - val_accuracy: 0.8906\n",
            "Epoch 10/10\n",
            "195/195 [==============================] - 53s 270ms/step - loss: 0.1042 - accuracy: 0.9645 - val_loss: 0.3009 - val_accuracy: 0.8750\n"
          ]
        }
      ]
    },
    {
      "cell_type": "code",
      "metadata": {
        "colab": {
          "base_uri": "https://localhost:8080/"
        },
        "id": "RhVsQ8AWN9Q_",
        "outputId": "6be9efc3-e521-41a4-a2e4-c0b85540cf34"
      },
      "source": [
        "#evaluate the model using model.evaluate()\n",
        "scores = model.evaluate(X_test, y_test, verbose=0)\n",
        "print('Test accuracy:', scores[1])"
      ],
      "execution_count": null,
      "outputs": [
        {
          "output_type": "stream",
          "name": "stdout",
          "text": [
            "Test accuracy: 0.8633599877357483\n"
          ]
        }
      ]
    },
    {
      "cell_type": "markdown",
      "metadata": {
        "id": "ozDvJmDhOHXk"
      },
      "source": [
        "<u>Note</u>: LSTM model performs better than vanilla RNN model as seen by the \n",
        "accuracy of models on test data. This is as expected because LSTM have cells \n",
        "which means it has more memory than RNN, this helps it to remember inputs for \n",
        "a longer period of time helps in realizing dependency in input."
      ]
    },
    {
      "cell_type": "markdown",
      "metadata": {
        "id": "GBtRY9jmI5VQ"
      },
      "source": [
        "Perform Error analysis and explain using few examples."
      ]
    },
    {
      "cell_type": "code",
      "metadata": {
        "id": "nrs2ylDaI5VR",
        "colab": {
          "base_uri": "https://localhost:8080/",
          "height": 295
        },
        "outputId": "9ea746c8-a63e-4dc0-fc3f-5a4b71921c14"
      },
      "source": [
        "import matplotlib.pyplot as plt\n",
        "\n",
        "\n",
        "accuracy, loss = model_history.history[\"accuracy\"], model_history.history[\"loss\"]\n",
        "val_accuracy, val_loss = model_history.history[\"val_accuracy\"], model_history.history[\"val_loss\"]\n",
        "\n",
        "epochs = range(1, len(accuracy) + 1)\n",
        "\n",
        "plt.plot(epochs, loss)\n",
        "plt.plot(epochs, val_loss)\n",
        "plt.legend([\"train loss\", \"val loss\"], loc = \"upper right\")\n",
        "plt.xlabel(\"epochs\")\n",
        "plt.ylabel(\"loss\")\n",
        "\n",
        "plt.title(\"Simple RNN learning curve\")\n",
        "\n",
        "plt.show()\n",
        "\n",
        "\n"
      ],
      "execution_count": null,
      "outputs": [
        {
          "output_type": "display_data",
          "data": {
            "image/png": "[encoded data removed]",
            "text/plain": [
              "<Figure size 432x288 with 1 Axes>"
            ]
          },
          "metadata": {
            "needs_background": "light"
          }
        }
      ]
    },
    {
      "cell_type": "markdown",
      "metadata": {
        "id": "br_Z1D3ZXGRv"
      },
      "source": [
        "We can see that the loss decreases for training data with epochs but the validation loss decreases and then increases. This means that the model is overfitting on training data as epochs go by."
      ]
    },
    {
      "cell_type": "code",
      "metadata": {
        "colab": {
          "base_uri": "https://localhost:8080/",
          "height": 295
        },
        "id": "q5K7SeOjSWD3",
        "outputId": "18116d32-951e-4338-e15e-bbe13c9e4105"
      },
      "source": [
        "plt.plot(epochs, accuracy)\n",
        "plt.plot(epochs, val_accuracy)\n",
        "plt.legend([\"train accuracy\", \"val accuracy\"], loc = \"upper right\")\n",
        "plt.xlabel(\"epochs\")\n",
        "plt.ylabel(\"accuracy\")\n",
        "\n",
        "plt.title(\"Simple RNN accuracy curve\")\n",
        "\n",
        "plt.show()"
      ],
      "execution_count": null,
      "outputs": [
        {
          "output_type": "display_data",
          "data": {
            "image/png": "[encoded data removed]",
            "text/plain": [
              "<Figure size 432x288 with 1 Axes>"
            ]
          },
          "metadata": {
            "needs_background": "light"
          }
        }
      ]
    },
    {
      "cell_type": "markdown",
      "metadata": {
        "id": "cNO3EktkYBCk"
      },
      "source": [
        "We can see that the accuracy of simple rnn increases with epochs for training data but it overfits and that can be seen with the validation curve."
      ]
    },
    {
      "cell_type": "code",
      "metadata": {
        "id": "mupO5lHKX-gH"
      },
      "source": [
        "accuracy, loss = lstm_model_history.history[\"accuracy\"], model_history.history[\"loss\"]\n",
        "val_accuracy, val_loss = lstm_model_history.history[\"val_accuracy\"], model_history.history[\"val_loss\"]"
      ],
      "execution_count": null,
      "outputs": []
    },
    {
      "cell_type": "code",
      "metadata": {
        "colab": {
          "base_uri": "https://localhost:8080/",
          "height": 295
        },
        "id": "mwTWSBWnYpxL",
        "outputId": "d7033203-a5eb-4012-c9a4-66f996c14012"
      },
      "source": [
        "epochs = range(1, len(accuracy) + 1)\n",
        "\n",
        "plt.plot(epochs, loss)\n",
        "plt.plot(epochs, val_loss)\n",
        "plt.legend([\"train loss\", \"val loss\"], loc = \"upper right\")\n",
        "plt.xlabel(\"epochs\")\n",
        "plt.ylabel(\"loss\")\n",
        "\n",
        "plt.title(\"LSTM learning curve\")\n",
        "\n",
        "plt.show()"
      ],
      "execution_count": null,
      "outputs": [
        {
          "output_type": "display_data",
          "data": {
            "image/png": "[encoded data removed]",
            "text/plain": [
              "<Figure size 432x288 with 1 Axes>"
            ]
          },
          "metadata": {
            "needs_background": "light"
          }
        }
      ]
    },
    {
      "cell_type": "code",
      "metadata": {
        "colab": {
          "base_uri": "https://localhost:8080/",
          "height": 295
        },
        "id": "aX9UH6NrYuWB",
        "outputId": "ab6fd84a-4172-4a7b-f3bf-038c3422d3c6"
      },
      "source": [
        "plt.plot(epochs, accuracy)\n",
        "plt.plot(epochs, val_accuracy)\n",
        "plt.legend([\"train accuracy\", \"val accuracy\"], loc = \"upper right\")\n",
        "plt.xlabel(\"epochs\")\n",
        "plt.ylabel(\"accuracy\")\n",
        "\n",
        "plt.title(\"LSTM accuracy curve\")\n",
        "\n",
        "plt.show()"
      ],
      "execution_count": null,
      "outputs": [
        {
          "output_type": "display_data",
          "data": {
            "image/png": "[encoded data removed]",
            "text/plain": [
              "<Figure size 432x288 with 1 Axes>"
            ]
          },
          "metadata": {
            "needs_background": "light"
          }
        }
      ]
    }
  ]
}