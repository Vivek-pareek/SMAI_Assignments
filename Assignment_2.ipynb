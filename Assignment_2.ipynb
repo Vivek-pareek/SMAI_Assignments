{
  "nbformat": 4,
  "nbformat_minor": 0,
  "metadata": {
    "colab": {
      "name": "Assignment-2.ipynb",
      "provenance": [],
      "collapsed_sections": [],
      "authorship_tag": "ABX9TyNU5z5uuXlSDLmCdiKJW/iF",
      "include_colab_link": true
    },
    "kernelspec": {
      "name": "python3",
      "display_name": "Python 3"
    },
    "language_info": {
      "name": "python"
    }
  },
  "cells": [
    {
      "cell_type": "markdown",
      "metadata": {
        "id": "view-in-github",
        "colab_type": "text"
      },
      "source": [
        "<a href=\"https://colab.research.google.com/github/Vivek-pareek/SMAI_Assignments/blob/main/Assignment_2.ipynb\" target=\"_parent\"><img src=\"https://colab.research.google.com/assets/colab-badge.svg\" alt=\"Open In Colab\"/></a>"
      ]
    },
    {
      "cell_type": "markdown",
      "metadata": {
        "id": "PhasDgobKThA"
      },
      "source": [
        "**1A. Among Eigen Value Decomposition and Singular Value Decomposition, which\n",
        "one is more generalizable to matrices and why?** \n",
        "\n",
        "<br> \n",
        "\n",
        "<u>sol.</u> Singular value decomposition is more genralizable to matrices as the concept of SVD is that you can decompose any matrix A as the product of U , $Σ$ and $V^*$.\n",
        "\n",
        "SVD is\n",
        "<br> \n",
        "\\begin{align}\n",
        " A_{m*n} = U_{m*m} Σ_{m*n} V_{n*n}^*\n",
        "\\end{align}\n",
        "\n",
        "\\\\\n",
        "\n",
        "\n",
        "Here A can be any matrix, rectangular or square where as eigendecomposition works only for square matrices which can be diagonalized. Eigendecomposition can be thought of as special case of svd, where U = P , $\\Sigma = Λ$ and V = $P^{-1}$ and A is a square diagonalizable matrix.\n",
        "\\begin{align}\n",
        " A = P\\Lambda P^{-1}\n",
        "\\end{align}\n",
        "\n"
      ]
    },
    {
      "cell_type": "markdown",
      "metadata": {
        "id": "qNwYdudbNqVu"
      },
      "source": [
        "<br><br>\n",
        "**1B. Show the method and find the Singular Value Decomposition of the following matrix::\n",
        "\\begin{align}\n",
        " M =\n",
        "\\begin{bmatrix}\n",
        "  4 & 8\\\\ \n",
        "  11 & 7 \\\\\n",
        "  14 & -2\n",
        "\\end{bmatrix}\n",
        "\\end{align}**"
      ]
    },
    {
      "cell_type": "markdown",
      "metadata": {
        "id": "fKd62Xv6ZzDT"
      },
      "source": [
        "<u>sol.</u> First let us find $MM^T$\n",
        "\\begin{align}\n",
        "MM^T=\\begin{bmatrix}\n",
        "  4 & 8\\\\ \n",
        "  11 & 7 \\\\\n",
        "  14 & -2\n",
        "\\end{bmatrix}\n",
        "\\begin{bmatrix}\n",
        "  4 & 11 & 14\\\\ \n",
        "  8 & 7 & -2 \n",
        "\\end{bmatrix}\n",
        "=\\begin{bmatrix}\n",
        "  80 & 100 & 40\\\\ \n",
        "  100 & 170 & 140\\\\\n",
        "  40 & 140 & 200\n",
        "\\end{bmatrix}\n",
        "\\end{align}\n",
        "\n",
        "\\\\\n",
        "\n",
        "\\begin{align}\n",
        "M^TM=\\begin{bmatrix}\n",
        "  4 & 11 & 14\\\\ \n",
        "  8 & 7 & -2 \n",
        "\\end{bmatrix}\n",
        "\\begin{bmatrix}\n",
        "  4 & 8\\\\ \n",
        "  11 & 7 \\\\\n",
        "  14 & -2\n",
        "\\end{bmatrix}\n",
        "=\\begin{bmatrix}\n",
        "  333 & 81 \\\\ \n",
        "  81 & 117\n",
        "\\end{bmatrix}\n",
        "\\end{align}\n",
        "<br>\n",
        "\n",
        "We will find the eigenvalues of $M^TM$ by equating determinant of below matrix to zero <br>\n",
        "<br>\n",
        "\\begin{align}\n",
        "\\begin{vmatrix}\n",
        "  333 - λ & 81 \\\\ \n",
        "  81 & 117 - λ\n",
        "\\end{vmatrix} = 0\n",
        "\\\\\\\\ (333-λ)*(117-λ) - 81^2 = 0 \\\\\\\\ λ^2 - 450*λ+32400 = 0 \\\\\\\\ (\\lambda - 90)*(\\lambda - 360) = 0 \\\\\\\\ \\lambda = 90 \\Rightarrow σ_2 = \\sqrt{90} = 3\\sqrt{10} \\hspace{2mm} or \\\\ \\\\ \\hspace{2mm} \\lambda = 360 \\Rightarrow σ_1 = \\sqrt{360} = 6\\sqrt{10}\n",
        "\\end{align}\n",
        "<br>\n",
        "\\begin{align}\n",
        "Σ = \\begin{bmatrix}\n",
        "  6\\sqrt{10} & 0\\\\ \n",
        "  0 & 3\\sqrt{10} \\\\\n",
        "  0 & 0\n",
        "\\end{bmatrix}\n",
        "\\end{align}\n",
        "<br>\n",
        "Eigenvector for $\\lambda_{1} = 360$ is\n",
        "<br>\n",
        "\\begin{align}\n",
        "\\begin{bmatrix}\n",
        "  -27 & 81 \\\\ \n",
        "  81 & -243\n",
        "\\end{bmatrix}\\begin{bmatrix}\n",
        "  x \\\\ \n",
        "  y\n",
        "\\end{bmatrix} = 0 \\\\ \\\\ \n",
        "81x-243y = 0 \\Rightarrow x = 3y\n",
        "\\end{align}\n",
        "<br>\n",
        "\\begin{align}\n",
        "v1 = \\begin{bmatrix}\n",
        "3\\\\ \n",
        "1\n",
        "\\end{bmatrix}\n",
        "\\end{align}\n",
        "<br>\n",
        "Normalized eigenvector is $\\frac{v1}{|v1|}$. Here $|v1|=\\sqrt{10}$ <br><br>\n",
        "Hence norm(v1) = $\\begin{bmatrix}\n",
        "  \\frac{3}{\\sqrt{10}}\\\\ \n",
        "  \\frac{1}{\\sqrt{10}} \n",
        "\\end{bmatrix}$ \n",
        "<br><br>\n",
        "Eigenvector for $\\lambda_{2} = 90$ is\n",
        "\\begin{align}\n",
        "\\begin{bmatrix}\n",
        "  243 & 81 \\\\ \n",
        "  81 & 27\n",
        "\\end{bmatrix}\\begin{bmatrix}\n",
        "  x \\\\ \n",
        "  y\n",
        "\\end{bmatrix} \\\\ \\\\ \n",
        "243x+81y=0 \\Rightarrow x = -y/3 \\\\ \\\\  \n",
        "v2 = \\begin{bmatrix}\n",
        "-1/3\\\\ \n",
        "1\n",
        "\\end{bmatrix}\n",
        "\\end{align}\n",
        "<br><br>\n",
        "Normalized eigenvector is $\\frac{v2}{|v2|}$. Here $|v2|=\\frac{\\sqrt{10}}{3}$ <br><br>\n",
        "Hence norm(v2) = $\\begin{bmatrix}\n",
        "  \\frac{-1}{\\sqrt{10}}\\\\ \n",
        "  \\frac{3}{\\sqrt{10}} \n",
        "\\end{bmatrix}$ \n",
        "<br><br>\n",
        "Hence we can write matrix V as $V = [v1 \\hspace{2mm} v2]$\n",
        "<br><br>\n",
        "\\begin{align}\n",
        "V = \\begin{bmatrix}\n",
        "  \\frac{3}{\\sqrt{10}} & \\frac{-1}{\\sqrt{10}}\\\\ \n",
        "  \\frac{1}{\\sqrt{10}} & \\frac{3}{\\sqrt{10}}\n",
        "\\end{bmatrix}\n",
        "\\end{align}\n",
        "<br><br>\n",
        "We can write matrix U's columns as $u_i=\\frac{Av_i}{σ_i}$\n",
        "<br><br>\n",
        "\\begin{align}\n",
        "u_1=\\frac{\\begin{bmatrix}\n",
        "4 & 8\\\\ \n",
        "11 & 7\\\\ \n",
        "14 & -2\n",
        "\\end{bmatrix}\\begin{bmatrix}\n",
        "\\frac{3}{\\sqrt{10}\\\\ \n",
        "\\frac{1}{\\sqrt{10}}}\n",
        "\\end{bmatrix}}{6*\\sqrt{10}}\\\\ \\\\ \\\\  \n",
        "Therefore \\hspace{2mm} u_1=\\begin{bmatrix}\n",
        "\\frac{1}{3}\\\\\n",
        "\\frac{2}{3}\\\\ \n",
        "\\frac{2}{3}\n",
        "\\end{bmatrix}\\\\ \\\\ \n",
        "u_2=\\frac{\\begin{bmatrix}\n",
        "4 & 8\\\\ \n",
        "11 & 7\\\\ \n",
        "14 & -2\n",
        "\\end{bmatrix}\\begin{bmatrix}\n",
        "\\frac{-1}{\\sqrt{10}\\\\ \n",
        "\\frac{3}{\\sqrt{10}}}\n",
        "\\end{bmatrix}}{3*\\sqrt{10}}\\\\ \\\\ \\\\\n",
        "Therefore \\hspace{2mm} u_2=\\begin{bmatrix}\n",
        "\\frac{2}{3}\\\\\n",
        "\\frac{1}{3}\\\\ \n",
        "\\frac{-2}{3}\n",
        "\\end{bmatrix}\n",
        "\\end{align}\n",
        "<br><br>\n",
        "We can create the column $u_3$ as being orthonormal to columns $u_1$ and $u_2$.Let $u_3$ be <br><br> \n",
        "\\begin{align}\n",
        "u_3 = \\begin{bmatrix}\n",
        "x\\\\\n",
        "y\\\\ \n",
        "z\n",
        "\\end{bmatrix}\n",
        "\\end{align}\n",
        "<br><br>\n",
        "Since $u_3$ is orthogonal to $u1$ and $u_2$ we can write $u_1^Tu_3=0$ and $u_2^Tu_3=0$<br><br>\n",
        "\\begin{align}\n",
        "x+2y+2z=0\\\\ \\\\ \n",
        "2x+y-2z=0\n",
        "\\end{align}\n",
        "<br><br>\n",
        "Solving the above equations we get <br><br>\n",
        "\\begin{align}\n",
        "x=-y\\\\ \\\\ \n",
        "z = \\frac{-y}{2}\\\\ \\\\ \n",
        "\\therefore \\hspace{2mm} u_3 = \\begin{bmatrix}\n",
        "-1 \\\\ \n",
        "1 \\\\ \n",
        "\\frac{-1}{2}\n",
        "\\end{bmatrix}\n",
        "\\end{align}\n",
        "<br><br>\n",
        "We have to normalize $u_3$ as $norm(u_3)=\\frac{u_3}{|u3|}$<br><br>\n",
        "$|u_3|=\\sqrt{1+1+\\frac{1}{4}}$ and $|u_3|=\\frac{3}{2}$<br><br>\n",
        "\\begin{align}\n",
        "norm(u_3) = \\begin{bmatrix}\n",
        "\\frac{-2}{3} \\\\ \n",
        "\\frac{2}{3} \\\\ \n",
        "\\frac{-1}{3}\n",
        "\\end{bmatrix}\n",
        "\\end{align}\n",
        "<br><br><br>\n",
        "$\\therefore$ SVD of A is<br><br>\n",
        "\\begin{align}\n",
        "U = \\begin{bmatrix}\n",
        "  \\frac{1}{3} & \\frac{2}{3} & \\frac{-2}{3}\\\\ \n",
        "  \\frac{2}{3} & \\frac{1}{3} & \\frac{2}{3} \\\\\n",
        "  \\frac{2}{3} & \\frac{-2}{3} & \\frac{-1}{3}\n",
        "\\end{bmatrix}\n",
        "\\hspace{2mm}\n",
        "Σ = \\begin{bmatrix}\n",
        "  6\\sqrt{10} & 0\\\\ \n",
        "  0 & 3\\sqrt{10} \\\\\n",
        "  0 & 0\n",
        "\\end{bmatrix} \\hspace{2mm} and \\hspace{2mm}\n",
        "V^T = \\begin{bmatrix}\n",
        "  \\frac{3}{\\sqrt{10}} & \\frac{1}{\\sqrt{10}}\\\\ \n",
        "  \\frac{-1}{\\sqrt{10}} & \\frac{3}{\\sqrt{10}}\n",
        "\\end{bmatrix}\\\\ \\\\ \\\\ \n",
        "SVD(A) = \\begin{bmatrix}\n",
        "  \\frac{1}{3} & \\frac{2}{3} & \\frac{-2}{3}\\\\ \n",
        "  \\frac{2}{3} & \\frac{1}{3} & \\frac{2}{3} \\\\\n",
        "  \\frac{2}{3} & \\frac{-2}{3} & \\frac{-1}{3}\n",
        "\\end{bmatrix}\\begin{bmatrix}\n",
        "  6\\sqrt{10} & 0\\\\ \n",
        "  0 & 3\\sqrt{10} \\\\\n",
        "  0 & 0\n",
        "\\end{bmatrix}\\begin{bmatrix}\n",
        "  \\frac{3}{\\sqrt{10}} & \\frac{1}{\\sqrt{10}}\\\\ \n",
        "  \\frac{-1}{\\sqrt{10}} & \\frac{3}{\\sqrt{10}}\n",
        "\\end{bmatrix}\n",
        "\\end{align} "
      ]
    },
    {
      "cell_type": "markdown",
      "metadata": {
        "id": "IokbTIckN9lr"
      },
      "source": [
        "<br><br>\n",
        "**2A. Suppose you want to apply PCA to your data X which is in 2D and you decompose\n",
        "X as UDVT\n",
        ". Then, which of the following are correct: <br> \n",
        "(a) PCA can be useful if all elements of D are equal <br> \n",
        "(b) PCA can be useful if all elements of D are not equal <br> \n",
        "(c) D is not full-rank if all points in X lie on a straight line <br> \n",
        "(d) V is not full-rank if all points in X lie on a straight line <br> \n",
        "(e) D is not full-rank if all points in X lie on a circle**"
      ]
    },
    {
      "cell_type": "markdown",
      "metadata": {
        "id": "1LCUlcTNQEM0"
      },
      "source": [
        "\n",
        "<u>Sol.</u>  b,c"
      ]
    },
    {
      "cell_type": "markdown",
      "metadata": {
        "id": "HRh9fKoscF3j"
      },
      "source": [
        "$\\\\ \\\\ $\n",
        "**2B. PCA will project the data points(multi-class) on a line which preserve information\n",
        "useful for data classification.**"
      ]
    },
    {
      "cell_type": "markdown",
      "metadata": {
        "id": "ZQSTVs8cdyux"
      },
      "source": [
        "\n",
        "<u>Sol.</u> False "
      ]
    },
    {
      "cell_type": "markdown",
      "metadata": {
        "id": "lglIz9VSgs2j"
      },
      "source": [
        "<br>**3A. What is the difference between prior and posterior probabilities?**"
      ]
    },
    {
      "cell_type": "markdown",
      "metadata": {
        "id": "3eaCv-O_kBff"
      },
      "source": [
        "<u>Sol.</u> <br><br> <u>Prior probability</u> : It is the measure of belief about a hypothesis to be true before we have seen the evidence. Hence we name it as prior.<br><br>\n",
        "<u>Posterior probability</u>: It is the measure of belief about a hypothesis to be true after we have seen the evidence. Hence we name it as posterior."
      ]
    },
    {
      "cell_type": "markdown",
      "metadata": {
        "id": "3frJIZVdpZqf"
      },
      "source": [
        "**3B. Let’s say that you are at work one day and have just finished lunch. You\n",
        "suddenly feel horrible and find yourself lying down. Maybe it is because one of your\n",
        "friend was recently sick with flu.\n",
        "You have a headache and sore throat, and you know that people with the flu have\n",
        "the same symptoms roughly 90% of the time. In other words, 90% of people with the\n",
        "flu have the same symptoms you currently have.\n",
        "Wanting to gain a little more information you roll over, grab your phone and search\n",
        "Google. You find a reputable article that says that only 5% of the population will get\n",
        "the flu in a given year. Or, the probability of having the flu, in general, is only 5%.\n",
        "You then spot one more statistic that says 20% of the population in a given year will\n",
        "have a headache and sore throat at any given time.\n",
        "What is the probability of you having a flu given you have a sore throat and\n",
        "headache?**\n"
      ]
    },
    {
      "cell_type": "markdown",
      "metadata": {
        "id": "Phny_7GF9YfC"
      },
      "source": [
        "<u>Sol.</u><br><br>\n",
        "Let the event of headache and sore throat be represented by $S$ and event of suffering from flu is $F$. \n",
        "<br><br>\n",
        "The event of suffering from symptoms given you have flu is <br> <br>\n",
        "\\begin{align}\n",
        "P\\left(\\frac{S}{F}\\right) = \\frac{90}{100} = 0.9 \\\\ \\\\ \n",
        "P\\left(F\\right) = \\frac{5}{100} = 0.05 \\\\ \\\\ \n",
        "P\\left(S\\right) = \\frac{20}{100} = 0.2\n",
        "\\end{align}\n",
        "<br><br>\n",
        "The probability of having flu given you have the symptoms is $P\\left(\\frac{F}{S}\\right)$ is by bayes rule<br><br>\n",
        "\n",
        "\\begin{align}\n",
        "P\\left(\\frac{F}{S}\\right) = \\frac{P\\left(\\frac{S}{F}\\right)P\\left(F\\right)}{P\\left(S\\right)} = \\frac{0.9*0.05}{0.2} = \\frac{0.045}{0.2} = 0.225 \\\\ \\\\ \n",
        "\\therefore The \\hspace{2mm} probability \\hspace{2mm}of \\hspace{2mm}having \\hspace{2mm}flu \\hspace{2mm}given \\hspace{2mm}you \\hspace{2mm}have \\hspace{2mm}symptoms \\hspace{2mm}is \\hspace{2mm}0.225 = 22.5\\% \\hspace{2mm} chance\n",
        "\\end{align}"
      ]
    },
    {
      "cell_type": "markdown",
      "metadata": {
        "id": "xkQbOy5zULWU"
      },
      "source": [
        "<br><br>**4.Write a code to perform KNN classification on Iris dataset provided. Use the statrter\n",
        "code for loading the train, test dataset. Report the accuracy obtained on test dataset.\n",
        "Do not use direct inbuilt functions. Numpy or other math libraries are allowed.**"
      ]
    },
    {
      "cell_type": "code",
      "metadata": {
        "id": "qULg_6faVIaw"
      },
      "source": [
        "\n",
        "import numpy as np\n",
        "import pandas as pd\n",
        "from sklearn.model_selection import train_test_split\n",
        "import math"
      ],
      "execution_count": null,
      "outputs": []
    },
    {
      "cell_type": "code",
      "metadata": {
        "id": "olTzosqOVJfc"
      },
      "source": [
        "#Load data\n",
        "iris = pd.read_csv('Iris.csv')\n",
        "#data cleaning\n",
        "iris.drop(columns=\"Id\",inplace=True)"
      ],
      "execution_count": null,
      "outputs": []
    },
    {
      "cell_type": "code",
      "metadata": {
        "id": "TwhGlRcYcDOn"
      },
      "source": [
        "#features and labels\n",
        "X=iris.iloc[:,0:4].values\n",
        "y=iris.iloc[:,4].values\n",
        "\n",
        "#Train and Test split\n",
        "X_train,X_test,y_train,y_test=train_test_split(X,y,test_size=0.2,random_state=0)"
      ],
      "execution_count": null,
      "outputs": []
    },
    {
      "cell_type": "code",
      "metadata": {
        "colab": {
          "base_uri": "https://localhost:8080/"
        },
        "id": "sTbnR7TZcG6Z",
        "outputId": "6b71242a-f660-4a34-c9e2-dc395bb281d6"
      },
      "source": [
        "#Function to compute euclidean distance between two features\n",
        "def computeEuclideanDistance(test_feature,train_feature):\n",
        "  sum = 0\n",
        "  for i in range(0,4):\n",
        "    sum = sum + (train_feature[i] - test_feature[i])**2\n",
        "  return math.sqrt(sum)\n",
        "\n",
        "#Variables to hold classification counts\n",
        "correctly_classified_count = 0\n",
        "misclassified_count = 0\n",
        "\n",
        "#Variable for setting value of k in KNN\n",
        "k = 5\n",
        "\n",
        "for test_feature,test_class in zip(X_test,y_test):\n",
        "  \n",
        "  distanceArray = []\n",
        "  \n",
        "  for train_feature,train_class in zip(X_train,y_train):\n",
        "    distance = computeEuclideanDistance(test_feature,train_feature)\n",
        "    distanceArray.append((distance,train_class))\n",
        "  \n",
        "  #sort the array of differences from a test feature to training features\n",
        "  distanceArray.sort(key = lambda x : x[0])\n",
        "  \n",
        "  k_nearest_classes_array = []\n",
        "  \n",
        "  #get the k nearest features labelled classes\n",
        "  for i in range(0,k):\n",
        "    k_nearest_classes_array.append(distanceArray[i][1])\n",
        "  \n",
        "  #get the feature class that appears most number of times in the k nearest features\n",
        "  nearest_class = max(set(k_nearest_classes_array), key = k_nearest_classes_array.count)\n",
        "  \n",
        "  if nearest_class == test_class : \n",
        "    correctly_classified_count = correctly_classified_count + 1\n",
        "  else : \n",
        "    misclassified_count = misclassified_count + 1\n",
        "\n",
        "print(\"accuracy = \" + str((correctly_classified_count)*100/(correctly_classified_count + misclassified_count)))  \n"
      ],
      "execution_count": null,
      "outputs": [
        {
          "output_type": "stream",
          "name": "stdout",
          "text": [
            "accuracy = 96.66666666666667\n"
          ]
        }
      ]
    },
    {
      "cell_type": "markdown",
      "metadata": {
        "id": "trtcA2CZmLPA"
      },
      "source": [
        "<br><br>\n",
        "**5.For the sample dataset provided, write a code to perform logistic regression. Plot a\n",
        "decision boundary between the two classes. Sample result image is provided. Do not\n",
        "use direct inbuilt functions. Numpy or other math libraries are allowed.**\n"
      ]
    },
    {
      "cell_type": "code",
      "metadata": {
        "id": "mDmH0LmccJ_V"
      },
      "source": [
        "#This is the starter code for dataset creation\n",
        "\n",
        "import numpy as np\n",
        "import matplotlib.pyplot as plt"
      ],
      "execution_count": null,
      "outputs": []
    },
    {
      "cell_type": "code",
      "metadata": {
        "id": "hfWQ6cJGsXEV"
      },
      "source": [
        "from sklearn.datasets import make_blobs\n",
        "X, y =  make_blobs(n_samples=100, centers=[[2,4],[4,2]], random_state=200)"
      ],
      "execution_count": null,
      "outputs": []
    },
    {
      "cell_type": "code",
      "metadata": {
        "colab": {
          "base_uri": "https://localhost:8080/",
          "height": 312
        },
        "id": "05_TQ7fsyQma",
        "outputId": "c0ebe8b8-da46-4a7d-8c97-84fe263a775b"
      },
      "source": [
        "#Visualize dataset \n",
        "plt.plot(X[:,0][y==0],X[:,1][y==0],'o',color='red')\n",
        "plt.plot(X[:,0][y==1],X[:,1][y==1],'^',color='blue')\n",
        "plt.title(\"dataset visualised\")\n",
        "plt.xlabel(\"feature vector 1\")\n",
        "plt.ylabel(\"feature vector 2\")"
      ],
      "execution_count": null,
      "outputs": [
        {
          "output_type": "execute_result",
          "data": {
            "text/plain": [
              "Text(0, 0.5, 'feature vector 2')"
            ]
          },
          "metadata": {},
          "execution_count": 47
        },
        {
          "output_type": "display_data",
          "data": {
            "image/png": "[encoded data removed]",
            "text/plain": [
              "<Figure size 432x288 with 1 Axes>"
            ]
          },
          "metadata": {
            "needs_background": "light"
          }
        }
      ]
    },
    {
      "cell_type": "code",
      "metadata": {
        "id": "wVGGrWUYyU87",
        "colab": {
          "base_uri": "https://localhost:8080/",
          "height": 295
        },
        "outputId": "bc9e3dcb-2b7b-412d-f705-a946b49003c6"
      },
      "source": [
        "#Function to train the classifier boundary using logistic regression\n",
        "def train(X, y, num_of_epochs, learning_rate):\n",
        "  w = np.zeros((2,1)) \n",
        "  '''\n",
        "  We have a line as a classifier. Hence the weights to be \n",
        "  learned are only 2 i.e w1*x1 + w2*x2 + b = 0\n",
        "  '''\n",
        "  b = 0\n",
        "  y = y.reshape(X.shape[0],1)\n",
        "  \n",
        "  #Loop to train over the entire dataset for a predefined epochs\n",
        "  for i in range(num_of_epochs):\n",
        "    y_i = sigmoid(np.dot(X,w) + b) #Get the predicted class label\n",
        "    dw,db = gradients(X,y,y_i) \n",
        "    w = w - learning_rate*dw\n",
        "    b = b - learning_rate*db\n",
        "  return w,b\n",
        "\n",
        "#Activation function which approximates a step function in [0,1]\n",
        "def sigmoid(x):\n",
        "  return 1/(1+np.exp(-x))\n",
        "\n",
        "#returns  the average loss of our predictions\n",
        "def loss(y,y_i):\n",
        "  loss = -np.mean(y*(np.log(y_i)) - (1-y)*np.log(1 - y_i))\n",
        "  return loss\n",
        "\n",
        "#Get the values of dj/dw,dj/db\n",
        "def gradients(X,y,y_i):\n",
        "  dw = (1/X.shape[0])*(np.dot(X.T, (y_i - y)))\n",
        "  db = (1/X.shape[0])*(np.sum(y_i - y))\n",
        "  return dw,db\n",
        "\n",
        "#plot the decision boundary\n",
        "def decision_boundary(X,w,b):\n",
        "  x1 = [min(X[:,0]), max(X[:,0])]\n",
        "  m = -(w[0]/w[1])\n",
        "  c = -b/w[1]\n",
        "  x2 = m*x1 + c\n",
        "  plt.plot(X[:,0][y==0],X[:,1][y==0],'o',color='red')\n",
        "  plt.plot(X[:,0][y==1],X[:,1][y==1],'^',color='blue')\n",
        "  plt.title(\"Decision Boundary\")\n",
        "  plt.plot(x1, x2, color = 'orange')\n",
        "  plt.xlabel(\"Feature 1\")\n",
        "  plt.ylabel(\"Feature 2\")\n",
        "  \n",
        "\n",
        "learning_rate = 0.1\n",
        "w,b = train(X,y,X.shape[0],learning_rate)\n",
        "decision_boundary(X,w,b)\n"
      ],
      "execution_count": null,
      "outputs": [
        {
          "output_type": "display_data",
          "data": {
            "image/png": "[encoded data removed]",
            "text/plain": [
              "<Figure size 432x288 with 1 Axes>"
            ]
          },
          "metadata": {
            "needs_background": "light"
          }
        }
      ]
    }
  ]
}